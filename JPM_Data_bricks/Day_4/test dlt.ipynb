{
 "cells": [
  {
   "cell_type": "markdown",
   "metadata": {
    "application/vnd.databricks.v1+cell": {
     "cellMetadata": {},
     "inputWidgets": {},
     "nuid": "6a044c8c-963f-46d0-8e7b-acbf8ee718e6",
     "showTitle": false,
     "tableResultSettingsMap": {},
     "title": ""
    }
   },
   "source": [
    "- 1.DLT (done)\n",
    "- 2.UC\n",
    "- 3.Databricks SQL\n",
    "- 4.AI/ML, Gen AI\n",
    "- 5.Repos \n",
    "- 6.Databricks certification link \n",
    "- 7. Databricks Marketplace// databricks power bi or tableau"
   ]
  },
  {
   "cell_type": "code",
   "execution_count": 0,
   "metadata": {
    "application/vnd.databricks.v1+cell": {
     "cellMetadata": {
      "byteLimit": 2048000,
      "rowLimit": 10000
     },
     "inputWidgets": {},
     "nuid": "4822c7ad-189f-4ecf-b98c-15644d2a9410",
     "showTitle": false,
     "tableResultSettingsMap": {},
     "title": ""
    }
   },
   "outputs": [],
   "source": [
    "select customer_id, customer_name, customer_email, customer_city, customer_state from jpm.naval_dlt.customer_silver where __END_AT Is null"
   ]
  },
  {
   "cell_type": "code",
   "execution_count": 0,
   "metadata": {
    "application/vnd.databricks.v1+cell": {
     "cellMetadata": {
      "byteLimit": 2048000,
      "rowLimit": 10000
     },
     "inputWidgets": {},
     "nuid": "a3cb4d89-935a-4cb1-a9b1-7c48ec590bb6",
     "showTitle": false,
     "tableResultSettingsMap": {},
     "title": ""
    }
   },
   "outputs": [],
   "source": [
    "--select * from jpm.naval_dlt.customer_silver_active"
   ]
  },
  {
   "cell_type": "code",
   "execution_count": 0,
   "metadata": {
    "application/vnd.databricks.v1+cell": {
     "cellMetadata": {
      "byteLimit": 2048000,
      "rowLimit": 10000
     },
     "inputWidgets": {},
     "nuid": "78890893-abc0-4a7a-a37d-6c12902d232c",
     "showTitle": false,
     "tableResultSettingsMap": {},
     "title": ""
    }
   },
   "outputs": [],
   "source": [
    "-- join\n",
    "select s.customer_id, c.customer_name, s.total_amount\n",
    "from jpm.naval_dlt.sales_sivler as s \n",
    "left join jpm.naval_dlt.customer_silver as c\n",
    "on s.customer_id = c.customer_id\n"
   ]
  }
 ],
 "metadata": {
  "application/vnd.databricks.v1+notebook": {
   "computePreferences": null,
   "dashboards": [],
   "environmentMetadata": {
    "base_environment": "",
    "environment_version": "2"
   },
   "language": "sql",
   "notebookMetadata": {
    "pythonIndentUnit": 4
   },
   "notebookName": "test dlt",
   "widgets": {}
  },
  "language_info": {
   "name": "sql"
  }
 },
 "nbformat": 4,
 "nbformat_minor": 0
}
